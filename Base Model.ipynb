{
 "cells": [
  {
   "cell_type": "code",
   "execution_count": 30,
   "metadata": {},
   "outputs": [],
   "source": [
    "import pandas as pd\n",
    "import numpy as np\n",
    "import re\n",
    "import nltk\n",
    "import tensorflow as tf\n",
    "import tensorflow_hub as hub\n",
    "from keras.models import Model\n",
    "from nltk.corpus import stopwords\n",
    "\n",
    "from numpy import array\n",
    "from keras.datasets import imdb\n",
    "from keras.preprocessing.text import one_hot\n",
    "from keras.preprocessing.sequence import pad_sequences\n",
    "from keras.models import Sequential\n",
    "from keras.layers.core import Activation, Dropout, Dense\n",
    "from keras.layers.core import Reshape\n",
    "from keras.layers import Flatten, Conv2D, MaxPooling2D\n",
    "from keras.layers import Conv1D, LSTM, GRU, Bidirectional, CuDNNGRU, CuDNNLSTM, BatchNormalization\n",
    "from keras.layers import GlobalMaxPooling1D, MaxPooling1D\n",
    "from keras.layers.embeddings import Embedding\n",
    "from sklearn.model_selection import train_test_split\n",
    "from keras.preprocessing.text import Tokenizer"
   ]
  },
  {
   "cell_type": "code",
   "execution_count": 2,
   "metadata": {},
   "outputs": [
    {
     "data": {
      "text/html": [
       "<div>\n",
       "<style scoped>\n",
       "    .dataframe tbody tr th:only-of-type {\n",
       "        vertical-align: middle;\n",
       "    }\n",
       "\n",
       "    .dataframe tbody tr th {\n",
       "        vertical-align: top;\n",
       "    }\n",
       "\n",
       "    .dataframe thead th {\n",
       "        text-align: right;\n",
       "    }\n",
       "</style>\n",
       "<table border=\"1\" class=\"dataframe\">\n",
       "  <thead>\n",
       "    <tr style=\"text-align: right;\">\n",
       "      <th></th>\n",
       "      <th>review</th>\n",
       "      <th>sentiment</th>\n",
       "    </tr>\n",
       "  </thead>\n",
       "  <tbody>\n",
       "    <tr>\n",
       "      <th>0</th>\n",
       "      <td>One of the other reviewers has mentioned that ...</td>\n",
       "      <td>positive</td>\n",
       "    </tr>\n",
       "    <tr>\n",
       "      <th>1</th>\n",
       "      <td>A wonderful little production. &lt;br /&gt;&lt;br /&gt;The...</td>\n",
       "      <td>positive</td>\n",
       "    </tr>\n",
       "    <tr>\n",
       "      <th>2</th>\n",
       "      <td>I thought this was a wonderful way to spend ti...</td>\n",
       "      <td>positive</td>\n",
       "    </tr>\n",
       "    <tr>\n",
       "      <th>3</th>\n",
       "      <td>Basically there's a family where a little boy ...</td>\n",
       "      <td>negative</td>\n",
       "    </tr>\n",
       "    <tr>\n",
       "      <th>4</th>\n",
       "      <td>Petter Mattei's \"Love in the Time of Money\" is...</td>\n",
       "      <td>positive</td>\n",
       "    </tr>\n",
       "  </tbody>\n",
       "</table>\n",
       "</div>"
      ],
      "text/plain": [
       "                                              review sentiment\n",
       "0  One of the other reviewers has mentioned that ...  positive\n",
       "1  A wonderful little production. <br /><br />The...  positive\n",
       "2  I thought this was a wonderful way to spend ti...  positive\n",
       "3  Basically there's a family where a little boy ...  negative\n",
       "4  Petter Mattei's \"Love in the Time of Money\" is...  positive"
      ]
     },
     "execution_count": 2,
     "metadata": {},
     "output_type": "execute_result"
    }
   ],
   "source": [
    "movie_reviews = pd.read_csv(\"IMDB Dataset.csv\")\n",
    "\n",
    "movie_reviews.isnull().values.any()\n",
    "\n",
    "movie_reviews.shape\n",
    "movie_reviews.head()"
   ]
  },
  {
   "cell_type": "code",
   "execution_count": 3,
   "metadata": {},
   "outputs": [
    {
     "data": {
      "text/plain": [
       "<matplotlib.axes._subplots.AxesSubplot at 0x2c0d4004388>"
      ]
     },
     "execution_count": 3,
     "metadata": {},
     "output_type": "execute_result"
    },
    {
     "data": {
      "image/png": "[encoded data removed]",
      "text/plain": [
       "<Figure size 432x288 with 1 Axes>"
      ]
     },
     "metadata": {
      "needs_background": "light"
     },
     "output_type": "display_data"
    }
   ],
   "source": [
    "import seaborn as sns\n",
    "\n",
    "sns.countplot(x='sentiment', data=movie_reviews)"
   ]
  },
  {
   "cell_type": "code",
   "execution_count": 4,
   "metadata": {},
   "outputs": [],
   "source": [
    "def preprocess_text(sen):\n",
    "    # Removing html tags\n",
    "    sentence = remove_tags(sen)\n",
    "\n",
    "    # Remove punctuations and numbers\n",
    "    sentence = re.sub('[^a-zA-Z]', ' ', sentence)\n",
    "\n",
    "    # Single character removal\n",
    "    sentence = re.sub(r\"\\s+[a-zA-Z]\\s+\", ' ', sentence)\n",
    "\n",
    "    # Removing multiple spaces\n",
    "    sentence = re.sub(r'\\s+', ' ', sentence)\n",
    "\n",
    "    return sentence\n",
    "TAG_RE = re.compile(r'<[^>]+>')\n",
    "\n",
    "def remove_tags(text):\n",
    "    return TAG_RE.sub('', text)\n",
    "X = []\n",
    "sentences = list(movie_reviews['review'])\n",
    "for sen in sentences:\n",
    "    X.append(preprocess_text(sen))\n",
    "    \n",
    "y = movie_reviews['sentiment']\n",
    "\n",
    "y = np.array(list(map(lambda x: 1 if x==\"positive\" else 0, y)))"
   ]
  },
  {
   "cell_type": "code",
   "execution_count": 5,
   "metadata": {},
   "outputs": [],
   "source": [
    "X_train, X_test, y_train, y_test = train_test_split(X, y, test_size=0.20, random_state=42)"
   ]
  },
  {
   "cell_type": "code",
   "execution_count": 6,
   "metadata": {},
   "outputs": [],
   "source": [
    "tokenizer = Tokenizer(num_words=5000)\n",
    "tokenizer.fit_on_texts(X_train)\n",
    "X_train = tokenizer.texts_to_sequences(X_train)\n",
    "X_test = tokenizer.texts_to_sequences(X_test)"
   ]
  },
  {
   "cell_type": "code",
   "execution_count": 7,
   "metadata": {},
   "outputs": [],
   "source": [
    "# Adding 1 because of reserved 0 index\n",
    "vocab_size = len(tokenizer.word_index) + 1\n",
    "\n",
    "maxlen = 100\n",
    "\n",
    "X_train = pad_sequences(X_train, padding='post', maxlen=maxlen)\n",
    "X_test = pad_sequences(X_test, padding='post', maxlen=maxlen)"
   ]
  },
  {
   "cell_type": "code",
   "execution_count": 8,
   "metadata": {},
   "outputs": [],
   "source": [
    "from numpy import array\n",
    "from numpy import asarray\n",
    "from numpy import zeros\n",
    "\n",
    "embeddings_dictionary = dict()\n",
    "glove_file = open('glove.6B.100d.txt', encoding=\"utf8\")\n",
    "\n",
    "for line in glove_file:\n",
    "    records = line.split()\n",
    "    word = records[0]\n",
    "    vector_dimensions = asarray(records[1:], dtype='float32')\n",
    "    embeddings_dictionary [word] = vector_dimensions\n",
    "glove_file.close()"
   ]
  },
  {
   "cell_type": "code",
   "execution_count": 9,
   "metadata": {},
   "outputs": [],
   "source": [
    "embedding_matrix = zeros((vocab_size, 100))\n",
    "for word, index in tokenizer.word_index.items():\n",
    "    embedding_vector = embeddings_dictionary.get(word)\n",
    "    if embedding_vector is not None:\n",
    "        embedding_matrix[index] = embedding_vector"
   ]
  },
  {
   "cell_type": "code",
   "execution_count": 10,
   "metadata": {},
   "outputs": [
    {
     "name": "stdout",
     "output_type": "stream",
     "text": [
      "Model: \"sequential_1\"\n",
      "_________________________________________________________________\n",
      "Layer (type)                 Output Shape              Param #   \n",
      "=================================================================\n",
      "embedding_1 (Embedding)      (None, 100, 100)          9254700   \n",
      "_________________________________________________________________\n",
      "flatten_1 (Flatten)          (None, 10000)             0         \n",
      "_________________________________________________________________\n",
      "dense_1 (Dense)              (None, 1)                 10001     \n",
      "=================================================================\n",
      "Total params: 9,264,701\n",
      "Trainable params: 10,001\n",
      "Non-trainable params: 9,254,700\n",
      "_________________________________________________________________\n",
      "None\n"
     ]
    }
   ],
   "source": [
    "model = Sequential()\n",
    "embedding_layer = Embedding(vocab_size, 100, weights=[embedding_matrix], input_length=maxlen , trainable=False)\n",
    "model.add(embedding_layer)\n",
    "\n",
    "model.add(Flatten())\n",
    "model.add(Dense(1, activation='sigmoid'))\n",
    "model.compile(optimizer='adam', loss='binary_crossentropy', metrics=['acc'])\n",
    "\n",
    "print(model.summary())"
   ]
  },
  {
   "cell_type": "code",
   "execution_count": 11,
   "metadata": {},
   "outputs": [
    {
     "name": "stdout",
     "output_type": "stream",
     "text": [
      "Train on 32000 samples, validate on 8000 samples\n",
      "Epoch 1/6\n",
      "32000/32000 [==============================] - 1s 44us/step - loss: 0.5980 - acc: 0.6764 - val_loss: 0.5310 - val_acc: 0.7333\n",
      "Epoch 2/6\n",
      "32000/32000 [==============================] - 1s 38us/step - loss: 0.4944 - acc: 0.7643 - val_loss: 0.5187 - val_acc: 0.7421\n",
      "Epoch 3/6\n",
      "32000/32000 [==============================] - 1s 38us/step - loss: 0.4569 - acc: 0.7868 - val_loss: 0.5150 - val_acc: 0.7469\n",
      "Epoch 4/6\n",
      "32000/32000 [==============================] - 1s 38us/step - loss: 0.4333 - acc: 0.8006 - val_loss: 0.5257 - val_acc: 0.7429\n",
      "Epoch 5/6\n",
      "32000/32000 [==============================] - 1s 38us/step - loss: 0.4207 - acc: 0.8088 - val_loss: 0.5296 - val_acc: 0.7448\n",
      "Epoch 6/6\n",
      "32000/32000 [==============================] - 1s 39us/step - loss: 0.4086 - acc: 0.8141 - val_loss: 0.5357 - val_acc: 0.7408\n"
     ]
    }
   ],
   "source": [
    "history = model.fit(X_train, y_train, batch_size=128, epochs=6, verbose=1, validation_split=0.2)"
   ]
  },
  {
   "cell_type": "code",
   "execution_count": 12,
   "metadata": {},
   "outputs": [
    {
     "name": "stdout",
     "output_type": "stream",
     "text": [
      "10000/10000 [==============================] - 0s 43us/step\n",
      "Test Score: 53.67218564033508\n",
      "Test Accuracy: 73.90999794006348\n"
     ]
    }
   ],
   "source": [
    "score = model.evaluate(X_test, y_test, verbose=1)\n",
    "print(\"Test Score:\", score[0]*100)\n",
    "print(\"Test Accuracy:\", score[1]*100)"
   ]
  },
  {
   "cell_type": "code",
   "execution_count": 13,
   "metadata": {},
   "outputs": [
    {
     "name": "stdout",
     "output_type": "stream",
     "text": [
      "Model: \"sequential_2\"\n",
      "_________________________________________________________________\n",
      "Layer (type)                 Output Shape              Param #   \n",
      "=================================================================\n",
      "embedding_2 (Embedding)      (None, 100, 100)          9254700   \n",
      "_________________________________________________________________\n",
      "conv1d_1 (Conv1D)            (None, 96, 128)           64128     \n",
      "_________________________________________________________________\n",
      "global_max_pooling1d_1 (Glob (None, 128)               0         \n",
      "_________________________________________________________________\n",
      "dense_2 (Dense)              (None, 1)                 129       \n",
      "=================================================================\n",
      "Total params: 9,318,957\n",
      "Trainable params: 64,257\n",
      "Non-trainable params: 9,254,700\n",
      "_________________________________________________________________\n",
      "None\n"
     ]
    }
   ],
   "source": [
    "model = Sequential()\n",
    "\n",
    "embedding_layer = Embedding(vocab_size, 100, weights=[embedding_matrix], input_length=maxlen , trainable=False)\n",
    "model.add(embedding_layer)\n",
    "\n",
    "model.add(Conv1D(128, 5, activation='relu'))\n",
    "model.add(GlobalMaxPooling1D())\n",
    "model.add(Dense(1, activation='sigmoid'))\n",
    "model.compile(optimizer='adam', loss='binary_crossentropy', metrics=['acc'])\n",
    "print(model.summary())"
   ]
  },
  {
   "cell_type": "code",
   "execution_count": 14,
   "metadata": {},
   "outputs": [
    {
     "name": "stdout",
     "output_type": "stream",
     "text": [
      "Train on 32000 samples, validate on 8000 samples\n",
      "Epoch 1/6\n",
      "32000/32000 [==============================] - 19s 589us/step - loss: 0.5207 - acc: 0.7383 - val_loss: 0.4038 - val_acc: 0.8195\n",
      "Epoch 2/6\n",
      "32000/32000 [==============================] - 19s 583us/step - loss: 0.3743 - acc: 0.8346 - val_loss: 0.3723 - val_acc: 0.8305\n",
      "Epoch 3/6\n",
      "32000/32000 [==============================] - 20s 616us/step - loss: 0.3263 - acc: 0.8611 - val_loss: 0.3633 - val_acc: 0.8372\n",
      "Epoch 4/6\n",
      "32000/32000 [==============================] - 19s 592us/step - loss: 0.2882 - acc: 0.8817 - val_loss: 0.3658 - val_acc: 0.8355\n",
      "Epoch 5/6\n",
      "32000/32000 [==============================] - 19s 597us/step - loss: 0.2589 - acc: 0.8967 - val_loss: 0.3709 - val_acc: 0.8334\n",
      "Epoch 6/6\n",
      "32000/32000 [==============================] - 19s 586us/step - loss: 0.2231 - acc: 0.9167 - val_loss: 0.3434 - val_acc: 0.8454\n",
      "10000/10000 [==============================] - 2s 230us/step\n",
      "Test Score: 34.128243350982665\n",
      "Test Accuracy: 84.92000102996826\n"
     ]
    }
   ],
   "source": [
    "history = model.fit(X_train, y_train, batch_size=128, epochs=6, verbose=1, validation_split=0.2)\n",
    "\n",
    "score = model.evaluate(X_test, y_test, verbose=1)\n",
    "print(\"Test Score:\", score[0]*100)\n",
    "print(\"Test Accuracy:\", score[1]*100)"
   ]
  },
  {
   "cell_type": "code",
   "execution_count": 15,
   "metadata": {},
   "outputs": [
    {
     "name": "stdout",
     "output_type": "stream",
     "text": [
      "Model: \"sequential_3\"\n",
      "_________________________________________________________________\n",
      "Layer (type)                 Output Shape              Param #   \n",
      "=================================================================\n",
      "embedding_3 (Embedding)      (None, 100, 100)          9254700   \n",
      "_________________________________________________________________\n",
      "lstm_1 (LSTM)                (None, 128)               117248    \n",
      "_________________________________________________________________\n",
      "dense_3 (Dense)              (None, 1)                 129       \n",
      "=================================================================\n",
      "Total params: 9,372,077\n",
      "Trainable params: 117,377\n",
      "Non-trainable params: 9,254,700\n",
      "_________________________________________________________________\n",
      "None\n",
      "Train on 32000 samples, validate on 8000 samples\n",
      "Epoch 1/6\n",
      "32000/32000 [==============================] - 80s 3ms/step - loss: 0.5601 - acc: 0.7053 - val_loss: 0.5069 - val_acc: 0.7654\n",
      "Epoch 2/6\n",
      "32000/32000 [==============================] - 84s 3ms/step - loss: 0.4503 - acc: 0.7879 - val_loss: 0.4321 - val_acc: 0.8140\n",
      "Epoch 3/6\n",
      "32000/32000 [==============================] - 102s 3ms/step - loss: 0.3965 - acc: 0.8219 - val_loss: 0.4231 - val_acc: 0.8033\n",
      "Epoch 4/6\n",
      "32000/32000 [==============================] - 100s 3ms/step - loss: 0.3663 - acc: 0.8360 - val_loss: 0.3566 - val_acc: 0.8444\n",
      "Epoch 5/6\n",
      "32000/32000 [==============================] - 70s 2ms/step - loss: 0.3420 - acc: 0.8500 - val_loss: 0.3454 - val_acc: 0.8511\n",
      "Epoch 6/6\n",
      "32000/32000 [==============================] - 72s 2ms/step - loss: 0.3276 - acc: 0.8568 - val_loss: 0.3454 - val_acc: 0.8514\n",
      "10000/10000 [==============================] - 9s 857us/step\n",
      "Test Score [LSTM]: 34.737881016731265\n",
      "Test Accuracy [LSTM]: 84.35999751091003\n"
     ]
    }
   ],
   "source": [
    "model = Sequential()\n",
    "embedding_layer = Embedding(vocab_size, 100, weights=[embedding_matrix], input_length=maxlen , trainable=False)\n",
    "model.add(embedding_layer)\n",
    "model.add(LSTM(128))\n",
    "\n",
    "model.add(Dense(1, activation='sigmoid'))\n",
    "model.compile(optimizer='adam', loss='binary_crossentropy', metrics=['acc'])\n",
    "print(model.summary())\n",
    "history = model.fit(X_train, y_train, batch_size=128, epochs=6, verbose=1, validation_split=0.2)\n",
    "\n",
    "score = model.evaluate(X_test, y_test, verbose=1)\n",
    "print(\"Test Score [LSTM]:\", score[0]*100)\n",
    "print(\"Test Accuracy [LSTM]:\", score[1]*100)"
   ]
  },
  {
   "cell_type": "code",
   "execution_count": 16,
   "metadata": {},
   "outputs": [
    {
     "name": "stdout",
     "output_type": "stream",
     "text": [
      "Model: \"sequential_4\"\n",
      "_________________________________________________________________\n",
      "Layer (type)                 Output Shape              Param #   \n",
      "=================================================================\n",
      "embedding_4 (Embedding)      (None, 100, 100)          9254700   \n",
      "_________________________________________________________________\n",
      "conv1d_2 (Conv1D)            (None, 100, 128)          64128     \n",
      "_________________________________________________________________\n",
      "max_pooling1d_1 (MaxPooling1 (None, 50, 128)           0         \n",
      "_________________________________________________________________\n",
      "bidirectional_1 (Bidirection (None, 256)               263168    \n",
      "_________________________________________________________________\n",
      "dense_4 (Dense)              (None, 1)                 257       \n",
      "=================================================================\n",
      "Total params: 9,582,253\n",
      "Trainable params: 327,553\n",
      "Non-trainable params: 9,254,700\n",
      "_________________________________________________________________\n",
      "None\n",
      "Train on 32000 samples, validate on 8000 samples\n",
      "Epoch 1/6\n",
      "32000/32000 [==============================] - 80s 3ms/step - loss: 0.5072 - acc: 0.7460 - val_loss: 0.4197 - val_acc: 0.8033\n",
      "Epoch 2/6\n",
      "32000/32000 [==============================] - 81s 3ms/step - loss: 0.3940 - acc: 0.8206 - val_loss: 0.4799 - val_acc: 0.7604\n",
      "Epoch 3/6\n",
      "32000/32000 [==============================] - 80s 3ms/step - loss: 0.3414 - acc: 0.8497 - val_loss: 0.3447 - val_acc: 0.8439\n",
      "Epoch 4/6\n",
      "32000/32000 [==============================] - 81s 3ms/step - loss: 0.3068 - acc: 0.8691 - val_loss: 0.3506 - val_acc: 0.8403\n",
      "Epoch 5/6\n",
      "32000/32000 [==============================] - 81s 3ms/step - loss: 0.2611 - acc: 0.8914 - val_loss: 0.3795 - val_acc: 0.8366\n",
      "Epoch 6/6\n",
      "32000/32000 [==============================] - 84s 3ms/step - loss: 0.2292 - acc: 0.9051 - val_loss: 0.3783 - val_acc: 0.8441\n",
      "10000/10000 [==============================] - 8s 810us/step\n",
      "Test Score [conv1D + LSTM]: 0.36984034317731856\n",
      "Test Accuracy [conv1D + LSTM]: 0.8460000157356262\n"
     ]
    }
   ],
   "source": [
    "model = Sequential()\n",
    "embedding_layer = Embedding(vocab_size, 100, weights=[embedding_matrix], input_length=maxlen , trainable=False)\n",
    "model.add(embedding_layer)\n",
    "\n",
    "model.add(Conv1D(128, 5, padding='same', activation='relu'))\n",
    "model.add(MaxPooling1D(pool_size = 2))\n",
    "\n",
    "model.add(Bidirectional(LSTM(128)))\n",
    "\n",
    "model.add(Dense(1, activation='sigmoid'))\n",
    "model.compile(optimizer='adam', loss='binary_crossentropy', metrics=['acc'])\n",
    "print(model.summary())\n",
    "history = model.fit(X_train, y_train, batch_size=128, epochs=6, verbose=1, validation_split=0.2)\n",
    "\n",
    "score = model.evaluate(X_test, y_test, verbose=1)\n",
    "print(\"Test Score [conv1D + LSTM]:\", score[0])\n",
    "print(\"Test Accuracy [conv1D + LSTM]:\", score[1])"
   ]
  },
  {
   "cell_type": "code",
   "execution_count": 17,
   "metadata": {},
   "outputs": [
    {
     "name": "stdout",
     "output_type": "stream",
     "text": [
      "Model: \"sequential_5\"\n",
      "_________________________________________________________________\n",
      "Layer (type)                 Output Shape              Param #   \n",
      "=================================================================\n",
      "embedding_5 (Embedding)      (None, 100, 100)          9254700   \n",
      "_________________________________________________________________\n",
      "conv1d_3 (Conv1D)            (None, 100, 128)          64128     \n",
      "_________________________________________________________________\n",
      "max_pooling1d_2 (MaxPooling1 (None, 50, 128)           0         \n",
      "_________________________________________________________________\n",
      "bidirectional_2 (Bidirection (None, 256)               197376    \n",
      "_________________________________________________________________\n",
      "dense_5 (Dense)              (None, 1)                 257       \n",
      "=================================================================\n",
      "Total params: 9,516,461\n",
      "Trainable params: 261,761\n",
      "Non-trainable params: 9,254,700\n",
      "_________________________________________________________________\n",
      "None\n",
      "Train on 32000 samples, validate on 8000 samples\n",
      "Epoch 1/6\n",
      "32000/32000 [==============================] - 79s 2ms/step - loss: 0.5237 - acc: 0.7281 - val_loss: 0.4099 - val_acc: 0.8104\n",
      "Epoch 2/6\n",
      "32000/32000 [==============================] - 76s 2ms/step - loss: 0.3808 - acc: 0.8303 - val_loss: 0.3627 - val_acc: 0.8389\n",
      "Epoch 3/6\n",
      "32000/32000 [==============================] - 76s 2ms/step - loss: 0.3344 - acc: 0.8524 - val_loss: 0.3413 - val_acc: 0.8510\n",
      "Epoch 4/6\n",
      "32000/32000 [==============================] - 76s 2ms/step - loss: 0.2879 - acc: 0.8772 - val_loss: 0.3425 - val_acc: 0.8526\n",
      "Epoch 5/6\n",
      "32000/32000 [==============================] - 74s 2ms/step - loss: 0.2360 - acc: 0.9027 - val_loss: 0.4008 - val_acc: 0.8346\n",
      "Epoch 6/6\n",
      "32000/32000 [==============================] - 75s 2ms/step - loss: 0.1904 - acc: 0.9240 - val_loss: 0.4706 - val_acc: 0.8044\n",
      "10000/10000 [==============================] - 7s 699us/step\n",
      "Test Score [conv1D + GRU]: 0.4702037090539932\n",
      "Test Accuracy [conv1D + GRU]: 0.8021000027656555\n"
     ]
    }
   ],
   "source": [
    "model = Sequential()\n",
    "embedding_layer = Embedding(vocab_size, 100, weights=[embedding_matrix], input_length=maxlen , trainable=False)\n",
    "model.add(embedding_layer)\n",
    "\n",
    "model.add(Conv1D(128, 5, padding='same', activation='relu'))\n",
    "model.add(MaxPooling1D(pool_size = 2))\n",
    "\n",
    "model.add(Bidirectional(GRU(128)))\n",
    "\n",
    "model.add(Dense(1, activation='sigmoid'))\n",
    "model.compile(optimizer='adam', loss='binary_crossentropy', metrics=['acc'])\n",
    "print(model.summary())\n",
    "history = model.fit(X_train, y_train, batch_size=128, epochs=6, verbose=1, validation_split=0.2)\n",
    "\n",
    "score = model.evaluate(X_test, y_test, verbose=1)\n",
    "print(\"Test Score [conv1D + GRU]:\", score[0])\n",
    "print(\"Test Accuracy [conv1D + GRU]:\", score[1])"
   ]
  },
  {
   "cell_type": "markdown",
   "metadata": {},
   "source": [
    "### (IMPROVEMENT(COMPLEX MODEL)"
   ]
  },
  {
   "cell_type": "code",
   "execution_count": 37,
   "metadata": {},
   "outputs": [
    {
     "name": "stdout",
     "output_type": "stream",
     "text": [
      "Model: \"sequential_12\"\n",
      "_________________________________________________________________\n",
      "Layer (type)                 Output Shape              Param #   \n",
      "=================================================================\n",
      "embedding_12 (Embedding)     (None, 100, 100)          9254700   \n",
      "_________________________________________________________________\n",
      "conv1d_22 (Conv1D)           (None, 100, 512)          256512    \n",
      "_________________________________________________________________\n",
      "max_pooling1d_21 (MaxPooling (None, 50, 512)           0         \n",
      "_________________________________________________________________\n",
      "conv1d_23 (Conv1D)           (None, 50, 256)           655616    \n",
      "_________________________________________________________________\n",
      "max_pooling1d_22 (MaxPooling (None, 25, 256)           0         \n",
      "_________________________________________________________________\n",
      "conv1d_24 (Conv1D)           (None, 25, 256)           327936    \n",
      "_________________________________________________________________\n",
      "max_pooling1d_23 (MaxPooling (None, 12, 256)           0         \n",
      "_________________________________________________________________\n",
      "bidirectional_12 (Bidirectio (None, 256)               394240    \n",
      "_________________________________________________________________\n",
      "dense_15 (Dense)             (None, 1)                 257       \n",
      "=================================================================\n",
      "Total params: 10,889,261\n",
      "Trainable params: 1,634,561\n",
      "Non-trainable params: 9,254,700\n",
      "_________________________________________________________________\n",
      "None\n",
      "Train on 32000 samples, validate on 8000 samples\n",
      "Epoch 1/6\n",
      "32000/32000 [==============================] - 189s 6ms/step - loss: 0.5396 - acc: 0.7078 - val_loss: 0.4023 - val_acc: 0.8134\n",
      "Epoch 2/6\n",
      "32000/32000 [==============================] - 192s 6ms/step - loss: 0.3792 - acc: 0.8301 - val_loss: 0.3670 - val_acc: 0.8361\n",
      "Epoch 3/6\n",
      "32000/32000 [==============================] - 186s 6ms/step - loss: 0.3098 - acc: 0.8670 - val_loss: 0.3293 - val_acc: 0.8555\n",
      "Epoch 4/6\n",
      "32000/32000 [==============================] - 239s 7ms/step - loss: 0.2515 - acc: 0.8961 - val_loss: 0.3537 - val_acc: 0.8561\n",
      "Epoch 5/6\n",
      "32000/32000 [==============================] - 280s 9ms/step - loss: 0.1782 - acc: 0.9293 - val_loss: 0.3603 - val_acc: 0.8470\n",
      "Epoch 6/6\n",
      "32000/32000 [==============================] - 235s 7ms/step - loss: 0.0994 - acc: 0.9630 - val_loss: 0.5636 - val_acc: 0.8314\n",
      "10000/10000 [==============================] - 20s 2ms/step\n",
      "Test Score [conv1D + LSTM]: 0.5387560107707977\n",
      "Test Accuracy [conv1D + LSTM]: 0.8374999761581421\n"
     ]
    }
   ],
   "source": [
    "\n",
    "\n",
    "model = Sequential()\n",
    "embedding_layer = Embedding(vocab_size, 100, weights=[embedding_matrix], input_length=maxlen , trainable=False)\n",
    "model.add(embedding_layer)\n",
    "\n",
    "model.add(Conv1D(512, 5, padding='same', activation='relu'))\n",
    "model.add(MaxPooling1D(pool_size = 2))\n",
    "\n",
    "model.add(Conv1D(256, 5, padding='same', activation='relu'))\n",
    "model.add(MaxPooling1D(pool_size = 2))\n",
    "\n",
    "model.add(Conv1D(256, 5, padding='same', activation='relu'))\n",
    "model.add(MaxPooling1D(pool_size = 2))\n",
    "\n",
    "model.add(Bidirectional(LSTM(128)))\n",
    "\n",
    "model.add(Dense(1, activation='sigmoid'))\n",
    "model.compile(optimizer='adam', loss='binary_crossentropy', metrics=['acc'])\n",
    "print(model.summary())\n",
    "history = model.fit(X_train, y_train, batch_size=128, epochs=6, verbose=1, validation_split=0.2)\n",
    "\n",
    "score = model.evaluate(X_test, y_test, verbose=1)\n",
    "print(\"Test Score [conv1D + LSTM]:\", score[0])\n",
    "print(\"Test Accuracy [conv1D + LSTM]:\", score[1])"
   ]
  },
  {
   "cell_type": "code",
   "execution_count": null,
   "metadata": {},
   "outputs": [],
   "source": []
  },
  {
   "cell_type": "code",
   "execution_count": null,
   "metadata": {},
   "outputs": [],
   "source": []
  }
 ],
 "metadata": {
  "kernelspec": {
   "display_name": "Python 3",
   "language": "python",
   "name": "python3"
  },
  "language_info": {
   "codemirror_mode": {
    "name": "ipython",
    "version": 3
   },
   "file_extension": ".py",
   "mimetype": "text/x-python",
   "name": "python",
   "nbconvert_exporter": "python",
   "pygments_lexer": "ipython3",
   "version": "3.7.6"
  }
 },
 "nbformat": 4,
 "nbformat_minor": 2
}
